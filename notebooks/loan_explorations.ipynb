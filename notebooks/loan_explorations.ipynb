{
 "cells": [
  {
   "cell_type": "code",
   "execution_count": 5,
   "metadata": {
    "collapsed": false
   },
   "outputs": [
    {
     "name": "stdout",
     "output_type": "stream",
     "text": [
      "The autoreload extension is already loaded. To reload it, use:\n",
      "  %reload_ext autoreload\n"
     ]
    }
   ],
   "source": [
    "import pandas as pd\n",
    "import numpy as np\n",
    "import matplotlib.pyplot as plt\n",
    "%matplotlib inline\n",
    "plt.style.use('ggplot')\n",
    "\n",
    "%load_ext autoreload\n",
    "%autoreload 2\n",
    "\n",
    "import itertools"
   ]
  },
  {
   "cell_type": "code",
   "execution_count": 6,
   "metadata": {
    "collapsed": false
   },
   "outputs": [
    {
     "data": {
      "text/plain": [
       "u'/Users/travis/Documents/hackathons/tmobile-hackathon/notebooks'"
      ]
     },
     "execution_count": 6,
     "metadata": {},
     "output_type": "execute_result"
    }
   ],
   "source": [
    "%pwd"
   ]
  },
  {
   "cell_type": "code",
   "execution_count": 7,
   "metadata": {
    "collapsed": true
   },
   "outputs": [],
   "source": [
    "import sklearn.model_selection as ms\n",
    "import sklearn.linear_model as lm\n",
    "import sklearn.ensemble as ens"
   ]
  },
  {
   "cell_type": "markdown",
   "metadata": {},
   "source": [
    "## Collect and review data, eliminate columns which do not pertain to phone loans"
   ]
  },
  {
   "cell_type": "code",
   "execution_count": 105,
   "metadata": {
    "collapsed": false
   },
   "outputs": [],
   "source": [
    "loans = pd.read_csv('../data/loan.csv')"
   ]
  },
  {
   "cell_type": "code",
   "execution_count": 106,
   "metadata": {
    "collapsed": false
   },
   "outputs": [
    {
     "data": {
      "text/plain": [
       "\"'inq_fi','total_cu_tl','inq_last_12m'\""
      ]
     },
     "execution_count": 106,
     "metadata": {},
     "output_type": "execute_result"
    }
   ],
   "source": [
    ",'collections_12_mths_ex_med','mths_since_last_major_derog','policy_code','annual_inc_joint'\n",
    ",'dti_joint','verification_status_joint','acc_now_delinq','tot_coll_amt','tot_cur_bal'\n",
    ",'open_acc_6m','open_il_6m','open_il_12m','open_il_24m','mths_since_rcnt_il','total_bal_il'\n",
    ",'il_util','open_rv_12m','open_rv_24m','max_bal_bc','all_util','total_rev_hi_lim'\n",
    ",'inq_fi','total_cu_tl','inq_last_12m'"
   ]
  },
  {
   "cell_type": "code",
   "execution_count": 107,
   "metadata": {
    "collapsed": true
   },
   "outputs": [],
   "source": [
    "dropcols = ['id', 'member_id', 'funded_amnt_inv', 'grade', 'sub_grade', 'verification_status',\n",
    "           'url', 'desc', 'title' , 'addr_state', 'dti', 'earliest_cr_line', 'inq_last_6mths',\n",
    "            'mths_since_last_delinq', 'mths_since_last_record', 'open_acc', 'pub_rec', 'revol_bal'\n",
    "           'revol_bal', 'revol_util', 'total_acc', 'total_pymnt', 'total_pymnt_inv', 'total_pymnt',\n",
    "           'total_pymnt_inv','total_rec_prncp', 'total_rec_int','total_rec_late_fee', 'recoveries',\n",
    "            'collection_recovery_fee','last_pymnt_d','last_pymnt_amnt','next_pymnt_d',\n",
    "            'last_credit_pull_d','collections_12_mths_ex_med','mths_since_last_major_derog','policy_code','annual_inc_joint'\n",
    "            ,'dti_joint','verification_status_joint','acc_now_delinq','tot_coll_amt','tot_cur_bal'\n",
    "            ,'open_acc_6m','open_il_6m','open_il_12m','open_il_24m','mths_since_rcnt_il','total_bal_il'\n",
    "            ,'il_util','open_rv_12m','open_rv_24m','max_bal_bc','all_util','total_rev_hi_lim'\n",
    "            ,'inq_fi','total_cu_tl','inq_last_12m'\n",
    "                   ]\n",
    "dropcols = set(dropcols)\n",
    "keep_cols = []\n",
    "for col in loans.columns:\n",
    "    if col not in dropcols:\n",
    "        keep_cols.append(col)"
   ]
  },
  {
   "cell_type": "code",
   "execution_count": 334,
   "metadata": {
    "collapsed": false
   },
   "outputs": [
    {
     "data": {
      "text/plain": [
       "0.00        47521\n",
       "10000.00      278\n",
       "15000.00      230\n",
       "12000.00      227\n",
       "20000.00      215\n",
       "35000.00      202\n",
       "24000.00      145\n",
       "8000.00       144\n",
       "25000.00      131\n",
       "16000.00      126\n",
       "5000.00       124\n",
       "18000.00      116\n",
       "30000.00      112\n",
       "6000.00       112\n",
       "28000.00       94\n",
       "9506.26        76\n",
       "8752.95        68\n",
       "9743.18        65\n",
       "14000.00       64\n",
       "9519.25        63\n",
       "21000.00       61\n",
       "11407.51       60\n",
       "9757.63        59\n",
       "9256.86        57\n",
       "9226.13        55\n",
       "Name: out_prncp_inv, dtype: int64"
      ]
     },
     "execution_count": 334,
     "metadata": {},
     "output_type": "execute_result"
    }
   ],
   "source": [
    "loans_clean_['out_prncp_inv'].value_counts().nlargest(25)"
   ]
  },
  {
   "cell_type": "code",
   "execution_count": 329,
   "metadata": {
    "collapsed": false
   },
   "outputs": [
    {
     "name": "stdout",
     "output_type": "stream",
     "text": [
      "<class 'pandas.core.frame.DataFrame'>\n",
      "Int64Index: 193647 entries, 13 to 887378\n",
      "Data columns (total 15 columns):\n",
      "loan_amnt              193647 non-null float64\n",
      "funded_amnt            193647 non-null float64\n",
      "term                   193647 non-null object\n",
      "int_rate               193647 non-null float64\n",
      "installment            193647 non-null float64\n",
      "emp_title              193647 non-null object\n",
      "emp_length             193647 non-null object\n",
      "home_ownership         193647 non-null object\n",
      "annual_inc             193647 non-null float64\n",
      "zip_code               193647 non-null category\n",
      "revol_bal              193647 non-null float64\n",
      "initial_list_status    193647 non-null object\n",
      "out_prncp              193647 non-null float64\n",
      "out_prncp_inv          193647 non-null float64\n",
      "year                   193647 non-null int64\n",
      "dtypes: category(1), float64(8), int64(1), object(5)\n",
      "memory usage: 22.5+ MB\n"
     ]
    }
   ],
   "source": [
    "loans_clean_.info()"
   ]
  },
  {
   "cell_type": "code",
   "execution_count": 114,
   "metadata": {
    "collapsed": false
   },
   "outputs": [
    {
     "name": "stderr",
     "output_type": "stream",
     "text": [
      "/Users/travis/anaconda2/lib/python2.7/site-packages/ipykernel/__main__.py:9: SettingWithCopyWarning: \n",
      "A value is trying to be set on a copy of a slice from a DataFrame\n",
      "\n",
      "See the caveats in the documentation: http://pandas.pydata.org/pandas-docs/stable/indexing.html#indexing-view-versus-copy\n"
     ]
    }
   ],
   "source": [
    "y_cols = ['delinq_2yrs']\n",
    "# 'delinq_2yrs' The number of 30+ days past-due incidences of delinquency in the borrower's credit file for the past 2 years\n",
    "\n",
    "purpose_keeprows = ['small_business', 'credit_card', 'other']\n",
    "\n",
    "\n",
    "loans_ = loans[keep_cols]\n",
    "loans_clean = loans_[loans_['purpose'] == 'credit_card']\n",
    "loans_clean.dropna(inplace=True)\n",
    "loans_y = loans_clean.pop('delinq_2yrs')\n",
    "\n",
    "## remove the word months from term\n",
    "## change 'issue_d' to day of week or month to see if it helps"
   ]
  },
  {
   "cell_type": "code",
   "execution_count": 115,
   "metadata": {
    "collapsed": false
   },
   "outputs": [],
   "source": [
    "loans_y_bin = loans_y.apply(lambda x: 1 if x > 1 else 0)"
   ]
  },
  {
   "cell_type": "markdown",
   "metadata": {},
   "source": [
    "## Clean data which remains make sure it's numeric, and add dummy variables where needed"
   ]
  },
  {
   "cell_type": "code",
   "execution_count": 116,
   "metadata": {
    "collapsed": true
   },
   "outputs": [],
   "source": [
    "# atonum = {l:n for n, l in enumerate('abcdefghijklmnopqrstuv'.upper())}"
   ]
  },
  {
   "cell_type": "code",
   "execution_count": 118,
   "metadata": {
    "collapsed": false
   },
   "outputs": [
    {
     "name": "stdout",
     "output_type": "stream",
     "text": [
      "<class 'pandas.core.frame.DataFrame'>\n",
      "Int64Index: 193647 entries, 13 to 887378\n",
      "Data columns (total 18 columns):\n",
      "loan_amnt              193647 non-null float64\n",
      "funded_amnt            193647 non-null float64\n",
      "term                   193647 non-null object\n",
      "int_rate               193647 non-null float64\n",
      "installment            193647 non-null float64\n",
      "emp_title              193647 non-null object\n",
      "emp_length             193647 non-null object\n",
      "home_ownership         193647 non-null object\n",
      "annual_inc             193647 non-null float64\n",
      "loan_status            193647 non-null object\n",
      "pymnt_plan             193647 non-null object\n",
      "purpose                193647 non-null object\n",
      "zip_code               193647 non-null object\n",
      "revol_bal              193647 non-null float64\n",
      "initial_list_status    193647 non-null object\n",
      "out_prncp              193647 non-null float64\n",
      "out_prncp_inv          193647 non-null float64\n",
      "application_type       193647 non-null object\n",
      "dtypes: float64(8), object(10)\n",
      "memory usage: 28.1+ MB\n"
     ]
    }
   ],
   "source": [
    "loans_clean_.info()"
   ]
  },
  {
   "cell_type": "code",
   "execution_count": 337,
   "metadata": {
    "collapsed": false
   },
   "outputs": [],
   "source": [
    "loans_clean_ = loans_clean.copy()\n",
    "loans_clean_['issue_d'] = loans_clean['issue_d'].apply(pd.Timestamp)\n",
    "loans_clean_['year'] = loans_clean_['issue_d'].apply(lambda x: x.year)\n",
    "loans_clean_['zip_code'] = loans_clean_['zip_code'].astype('category')\n",
    "loans_clean_.drop(['application_type', 'purpose', 'initial_list_status', 'revol_bal',\n",
    "                  'out_prncp_inv', 'revol_bal', 'pymnt_plan', 'issue_d', 'loan_status'], axis=1, inplace=True)"
   ]
  },
  {
   "cell_type": "code",
   "execution_count": 338,
   "metadata": {
    "collapsed": true
   },
   "outputs": [],
   "source": [
    "rows_need_dummies = ['emp_title',\n",
    "                     'home_ownership', 'emp_length', 'term', 'zip_code']"
   ]
  },
  {
   "cell_type": "code",
   "execution_count": 339,
   "metadata": {
    "collapsed": true
   },
   "outputs": [],
   "source": [
    "def make_dummy(df, cols):\n",
    "    df_ = df.copy()\n",
    "    for col in cols:\n",
    "        for value in df[col].value_counts().nlargest(50).index:\n",
    "            df_['{}${}'.format(col, value)] = df[col] == value\n",
    "        df_.drop(col, axis=1, inplace=True)\n",
    "    return df_"
   ]
  },
  {
   "cell_type": "code",
   "execution_count": 340,
   "metadata": {
    "collapsed": false
   },
   "outputs": [],
   "source": [
    "loans_model = make_dummy(loans_clean_, rows_need_dummies)"
   ]
  },
  {
   "cell_type": "markdown",
   "metadata": {},
   "source": [
    "## Train logistic regression Classifier"
   ]
  },
  {
   "cell_type": "code",
   "execution_count": 341,
   "metadata": {
    "collapsed": false
   },
   "outputs": [],
   "source": [
    "Xtr, Xte, ytr, yte = ms.train_test_split(loans_model, loans_y_bin, test_size= .15)"
   ]
  },
  {
   "cell_type": "code",
   "execution_count": 342,
   "metadata": {
    "collapsed": true
   },
   "outputs": [],
   "source": [
    "model = lm.LogisticRegression(max_iter=400,  C=.75, n_jobs=-1)"
   ]
  },
  {
   "cell_type": "code",
   "execution_count": 343,
   "metadata": {
    "collapsed": false
   },
   "outputs": [
    {
     "data": {
      "text/plain": [
       "LogisticRegression(C=0.75, class_weight=None, dual=False, fit_intercept=True,\n",
       "          intercept_scaling=1, max_iter=400, multi_class='ovr', n_jobs=-1,\n",
       "          penalty='l2', random_state=None, solver='liblinear', tol=0.0001,\n",
       "          verbose=0, warm_start=False)"
      ]
     },
     "execution_count": 343,
     "metadata": {},
     "output_type": "execute_result"
    }
   ],
   "source": [
    "model.fit(Xtr, ytr)"
   ]
  },
  {
   "cell_type": "code",
   "execution_count": 344,
   "metadata": {
    "collapsed": true
   },
   "outputs": [],
   "source": [
    "probs = model.predict_proba(Xte)\n",
    "probs = probs[:,1]"
   ]
  },
  {
   "cell_type": "code",
   "execution_count": 345,
   "metadata": {
    "collapsed": false
   },
   "outputs": [],
   "source": [
    "def generate_roc_curve(probs, yte, n_iter= 200):\n",
    "    '''\n",
    "    '''\n",
    "    thres_list = np.linspace(0,1,n_iter)\n",
    "    thres_list = (thres_list * thres_list)\n",
    "    rocs = []\n",
    "    test = yte.reshape(-1,1)\n",
    "    proba = probs.reshape(-1,1)\n",
    "    pframe = pd.DataFrame(np.append(proba, test, axis=1), columns= ['predict', 'label'])\n",
    "    c_true = pframe[pframe['label'] == 1]\n",
    "    c_false = pframe[pframe['label'] != 1]\n",
    "    for thres in thres_list:\n",
    "        tpr = float((c_true['predict'] > thres).sum()) / c_true.shape[0]\n",
    "        fpr = float((c_false['predict'] > thres).sum()) / c_false.shape[0]\n",
    "        rocs.append({'tpr' : tpr, 'fpr': fpr})\n",
    "    return rocs"
   ]
  },
  {
   "cell_type": "code",
   "execution_count": 346,
   "metadata": {
    "collapsed": false
   },
   "outputs": [],
   "source": [
    "# loans_clean_[out_prncp_inv].nlargest()"
   ]
  },
  {
   "cell_type": "code",
   "execution_count": 347,
   "metadata": {
    "collapsed": false
   },
   "outputs": [],
   "source": [
    "rocs = generate_roc_curve(probs, yte, n_iter=2000)"
   ]
  },
  {
   "cell_type": "code",
   "execution_count": 348,
   "metadata": {
    "collapsed": true
   },
   "outputs": [],
   "source": [
    "colors = itertools.cycle(['green', 'red', 'cyan', 'orange', 'violet',\n",
    "                          'yellow', 'blue', 'pink'])"
   ]
  },
  {
   "cell_type": "code",
   "execution_count": 349,
   "metadata": {
    "collapsed": false
   },
   "outputs": [
    {
     "name": "stdout",
     "output_type": "stream",
     "text": [
      "2000\n"
     ]
    },
    {
     "data": {
      "image/png": "[encoded data removed]",
      "text/plain": [
       "<matplotlib.figure.Figure at 0x12aa8ce50>"
      ]
     },
     "metadata": {},
     "output_type": "display_data"
    }
   ],
   "source": [
    "fig, ax = plt.subplots(1, 1, figsize=(13, 13))\n",
    "fpr = []\n",
    "tpr = []\n",
    "for row in rocs:\n",
    "    fpr.append(row['fpr'])\n",
    "    tpr.append(row['tpr'])\n",
    "print len(fpr)\n",
    "ax.scatter(fpr, tpr, color=colors.next())\n",
    "ax.plot(np.linspace(0,1,10), np.linspace(0,1,10))\n",
    "ax.set_xlim(0,1)\n",
    "ax.set_ylim(0,1)\n",
    "\n",
    "fig.savefig('../images/reducedROC.png')\n"
   ]
  },
  {
   "cell_type": "code",
   "execution_count": 350,
   "metadata": {
    "collapsed": false
   },
   "outputs": [],
   "source": [
    "col_vals = pd.DataFrame(model.coef_, columns=loans_model.columns)"
   ]
  },
  {
   "cell_type": "code",
   "execution_count": 379,
   "metadata": {
    "collapsed": false
   },
   "outputs": [],
   "source": [
    "nomoney = [col for col in col_vals if '$' not in col]\n",
    "money = set([col.split('$')[0] for col in col_vals if '$' in col])\n",
    "hella_money = [col for col in col_vals if '$' in col]"
   ]
  },
  {
   "cell_type": "code",
   "execution_count": 358,
   "metadata": {
    "collapsed": false
   },
   "outputs": [
    {
     "data": {
      "text/html": [
       "<div>\n",
       "<table border=\"1\" class=\"dataframe\">\n",
       "  <thead>\n",
       "    <tr style=\"text-align: right;\">\n",
       "      <th></th>\n",
       "      <th>0</th>\n",
       "    </tr>\n",
       "  </thead>\n",
       "  <tbody>\n",
       "    <tr>\n",
       "      <th>loan_amnt</th>\n",
       "      <td>-0.000387</td>\n",
       "    </tr>\n",
       "    <tr>\n",
       "      <th>funded_amnt</th>\n",
       "      <td>0.000339</td>\n",
       "    </tr>\n",
       "    <tr>\n",
       "      <th>int_rate</th>\n",
       "      <td>0.000133</td>\n",
       "    </tr>\n",
       "    <tr>\n",
       "      <th>installment</th>\n",
       "      <td>0.001037</td>\n",
       "    </tr>\n",
       "    <tr>\n",
       "      <th>annual_inc</th>\n",
       "      <td>0.000002</td>\n",
       "    </tr>\n",
       "    <tr>\n",
       "      <th>out_prncp</th>\n",
       "      <td>0.000021</td>\n",
       "    </tr>\n",
       "    <tr>\n",
       "      <th>year</th>\n",
       "      <td>-0.001452</td>\n",
       "    </tr>\n",
       "  </tbody>\n",
       "</table>\n",
       "</div>"
      ],
      "text/plain": [
       "                    0\n",
       "loan_amnt   -0.000387\n",
       "funded_amnt  0.000339\n",
       "int_rate     0.000133\n",
       "installment  0.001037\n",
       "annual_inc   0.000002\n",
       "out_prncp    0.000021\n",
       "year        -0.001452"
      ]
     },
     "execution_count": 358,
     "metadata": {},
     "output_type": "execute_result"
    }
   ],
   "source": [
    "col_vals[nomoney].T"
   ]
  },
  {
   "cell_type": "code",
   "execution_count": 364,
   "metadata": {
    "collapsed": false
   },
   "outputs": [
    {
     "data": {
      "text/plain": [
       "['loan_amnt',\n",
       " 'funded_amnt',\n",
       " 'int_rate',\n",
       " 'installment',\n",
       " 'annual_inc',\n",
       " 'out_prncp',\n",
       " 'year']"
      ]
     },
     "execution_count": 364,
     "metadata": {},
     "output_type": "execute_result"
    }
   ],
   "source": [
    "nomoney"
   ]
  },
  {
   "cell_type": "code",
   "execution_count": 363,
   "metadata": {
    "collapsed": false
   },
   "outputs": [
    {
     "data": {
      "text/plain": [
       "{'emp_length', 'emp_title', 'home_ownership', 'term', 'zip_code'}"
      ]
     },
     "execution_count": 363,
     "metadata": {},
     "output_type": "execute_result"
    }
   ],
   "source": [
    "money"
   ]
  },
  {
   "cell_type": "code",
   "execution_count": 368,
   "metadata": {
    "collapsed": true
   },
   "outputs": [],
   "source": [
    "div = '--------'"
   ]
  },
  {
   "cell_type": "code",
   "execution_count": 384,
   "metadata": {
    "collapsed": false
   },
   "outputs": [
    {
     "data": {
      "text/plain": [
       "['loan_amnt',\n",
       " 'funded_amnt',\n",
       " 'int_rate',\n",
       " 'installment',\n",
       " 'annual_inc',\n",
       " 'out_prncp',\n",
       " 'year']"
      ]
     },
     "execution_count": 384,
     "metadata": {},
     "output_type": "execute_result"
    }
   ],
   "source": [
    "nomoney"
   ]
  },
  {
   "cell_type": "code",
   "execution_count": 385,
   "metadata": {
    "collapsed": false
   },
   "outputs": [
    {
     "data": {
      "text/plain": [
       "{'emp_length', 'emp_title', 'home_ownership', 'term', 'zip_code'}"
      ]
     },
     "execution_count": 385,
     "metadata": {},
     "output_type": "execute_result"
    }
   ],
   "source": [
    "money"
   ]
  },
  {
   "cell_type": "code",
   "execution_count": 371,
   "metadata": {
    "collapsed": false
   },
   "outputs": [
    {
     "name": "stdout",
     "output_type": "stream",
     "text": [
      "continous cols\n",
      "--------\n",
      "loan_amnt\n",
      "funded_amnt\n",
      "int_rate\n",
      "installment\n",
      "annual_inc\n",
      "out_prncp\n",
      "year\n",
      "--------\n",
      "drop menu cols\n",
      "--------\n",
      "home_ownership\n",
      "term\n",
      "zip_code\n",
      "emp_title\n",
      "emp_length\n"
     ]
    }
   ],
   "source": [
    "print 'continous cols'\n",
    "print div\n",
    "\n",
    "for i in nomoney:\n",
    "    print i\n",
    "\n",
    "print div\n",
    "print 'drop menu cols'\n",
    "print div\n",
    "\n",
    "for i in money:\n",
    "    print i"
   ]
  },
  {
   "cell_type": "code",
   "execution_count": 381,
   "metadata": {
    "collapsed": false
   },
   "outputs": [
    {
     "name": "stdout",
     "output_type": "stream",
     "text": [
      "pulldown_values\n",
      "--------\n",
      "--------\n",
      "emp_title\n",
      "--------\n",
      "Teacher\n",
      "Manager\n",
      "Owner\n",
      "RN\n",
      "Registered Nurse\n",
      "Supervisor\n",
      "Project Manager\n",
      "Sales\n",
      "Office Manager\n",
      "Director\n",
      "General Manager\n",
      "Driver\n",
      "Attorney\n",
      "teacher\n",
      "President\n",
      "Engineer\n",
      "manager\n",
      "Vice President\n",
      "owner\n",
      "Accountant\n",
      "driver\n",
      "Administrative Assistant\n",
      "Sales Manager\n",
      "Operations Manager\n",
      "Account Manager\n",
      "Analyst\n",
      "Software Engineer\n",
      "sales\n",
      "Controller\n",
      "Store Manager\n",
      "Police Officer\n",
      "Executive Assistant\n",
      "supervisor\n",
      "Consultant\n",
      "Paralegal\n",
      "Account Executive\n",
      "Technician\n",
      "Server\n",
      "Program Manager\n",
      "Professor\n",
      "Nurse\n",
      "Branch Manager\n",
      "truck driver\n",
      "IT Manager\n",
      "Business Analyst\n",
      "CEO\n",
      "Associate\n",
      "Assistant Manager\n",
      "Executive Director\n",
      "Truck Driver\n",
      "--------\n",
      "home_ownership\n",
      "--------\n",
      "MORTGAGE\n",
      "RENT\n",
      "OWN\n",
      "OTHER\n",
      "NONE\n",
      "--------\n",
      "emp_length\n",
      "--------\n",
      "10+ years\n",
      "2 years\n",
      "< 1 year\n",
      "3 years\n",
      "1 year\n",
      "5 years\n",
      "4 years\n",
      "7 years\n",
      "8 years\n",
      "6 years\n",
      "9 years\n",
      "n/a\n",
      "--------\n",
      "term\n",
      "--------\n",
      " 36 months\n",
      " 60 months\n",
      "--------\n",
      "zip_code\n",
      "--------\n",
      "606xx\n",
      "112xx\n",
      "750xx\n",
      "100xx\n",
      "945xx\n",
      "900xx\n",
      "070xx\n",
      "300xx\n",
      "331xx\n",
      "770xx\n",
      "330xx\n",
      "921xx\n",
      "891xx\n",
      "917xx\n",
      "104xx\n",
      "117xx\n",
      "926xx\n",
      "941xx\n",
      "600xx\n",
      "852xx\n",
      "021xx\n",
      "113xx\n",
      "601xx\n",
      "913xx\n",
      "604xx\n",
      "802xx\n",
      "920xx\n",
      "481xx\n",
      "080xx\n",
      "334xx\n",
      "980xx\n",
      "928xx\n",
      "554xx\n",
      "925xx\n",
      "850xx\n",
      "553xx\n",
      "301xx\n",
      "605xx\n",
      "787xx\n",
      "951xx\n",
      "760xx\n",
      "956xx\n",
      "752xx\n",
      "201xx\n",
      "303xx\n",
      "774xx\n",
      "853xx\n",
      "773xx\n",
      "088xx\n",
      "902xx\n"
     ]
    }
   ],
   "source": [
    "print 'pulldown_values'\n",
    "print div\n",
    "\n",
    "ilast = 'lkhglhar'\n",
    "for i in hella_money:\n",
    "    mcol = i.split('$')\n",
    "    if mcol[0] != ilast:\n",
    "        print div\n",
    "        print mcol[0]\n",
    "        print div\n",
    "        ilast = mcol[0]\n",
    "    print mcol[1]"
   ]
  },
  {
   "cell_type": "code",
   "execution_count": 387,
   "metadata": {
    "collapsed": false
   },
   "outputs": [
    {
     "name": "stdout",
     "output_type": "stream",
     "text": [
      "/Users/travis/Documents/hackathons/tmobile-hackathon\n"
     ]
    }
   ],
   "source": [
    "%cd .."
   ]
  },
  {
   "cell_type": "code",
   "execution_count": 392,
   "metadata": {
    "collapsed": false
   },
   "outputs": [],
   "source": [
    "from src.gen_model import roc_curve_many"
   ]
  },
  {
   "cell_type": "code",
   "execution_count": 451,
   "metadata": {
    "collapsed": false
   },
   "outputs": [
    {
     "ename": "IOError",
     "evalue": "[Errno 2] No such file or directory: u'../images/roc_curve-736413.png'",
     "output_type": "error",
     "traceback": [
      "\u001b[0;31m---------------------------------------------------------------------------\u001b[0m",
      "\u001b[0;31mIOError\u001b[0m                                   Traceback (most recent call last)",
      "\u001b[0;32m<ipython-input-451-560bf70d9ae5>\u001b[0m in \u001b[0;36m<module>\u001b[0;34m()\u001b[0m\n\u001b[0;32m----> 1\u001b[0;31m \u001b[0mroc_curve_many\u001b[0m\u001b[0;34m(\u001b[0m\u001b[0;34m'data/rf'\u001b[0m\u001b[0;34m,\u001b[0m \u001b[0msave_file\u001b[0m\u001b[0;34m=\u001b[0m\u001b[0;34m'images/rf_eval.png'\u001b[0m\u001b[0;34m)\u001b[0m\u001b[0;34m\u001b[0m\u001b[0m\n\u001b[0m",
      "\u001b[0;32m/Users/travis/Documents/hackathons/tmobile-hackathon/src/gen_model.py\u001b[0m in \u001b[0;36mroc_curve_many\u001b[0;34m(json_folder, save_file)\u001b[0m\n\u001b[1;32m    131\u001b[0m     \u001b[0max\u001b[0m\u001b[0;34m.\u001b[0m\u001b[0mset_xlim\u001b[0m\u001b[0;34m(\u001b[0m\u001b[0;36m0\u001b[0m\u001b[0;34m,\u001b[0m\u001b[0;36m1\u001b[0m\u001b[0;34m)\u001b[0m\u001b[0;34m\u001b[0m\u001b[0m\n\u001b[1;32m    132\u001b[0m     \u001b[0max\u001b[0m\u001b[0;34m.\u001b[0m\u001b[0mset_ylim\u001b[0m\u001b[0;34m(\u001b[0m\u001b[0;36m0\u001b[0m\u001b[0;34m,\u001b[0m\u001b[0;36m1\u001b[0m\u001b[0;34m)\u001b[0m\u001b[0;34m\u001b[0m\u001b[0m\n\u001b[0;32m--> 133\u001b[0;31m     \u001b[0mfig\u001b[0m\u001b[0;34m.\u001b[0m\u001b[0msavefig\u001b[0m\u001b[0;34m(\u001b[0m\u001b[0msave_file\u001b[0m\u001b[0;34m)\u001b[0m\u001b[0;34m\u001b[0m\u001b[0m\n\u001b[0m\u001b[1;32m    134\u001b[0m \u001b[0;34m\u001b[0m\u001b[0m\n\u001b[1;32m    135\u001b[0m \u001b[0;31m# loans, y = load_and_clean('loan.csv')\u001b[0m\u001b[0;34m\u001b[0m\u001b[0;34m\u001b[0m\u001b[0m\n",
      "\u001b[0;32m/Users/travis/anaconda2/lib/python2.7/site-packages/matplotlib/figure.pyc\u001b[0m in \u001b[0;36msavefig\u001b[0;34m(self, *args, **kwargs)\u001b[0m\n\u001b[1;32m   1561\u001b[0m             \u001b[0mself\u001b[0m\u001b[0;34m.\u001b[0m\u001b[0mset_frameon\u001b[0m\u001b[0;34m(\u001b[0m\u001b[0mframeon\u001b[0m\u001b[0;34m)\u001b[0m\u001b[0;34m\u001b[0m\u001b[0m\n\u001b[1;32m   1562\u001b[0m \u001b[0;34m\u001b[0m\u001b[0m\n\u001b[0;32m-> 1563\u001b[0;31m         \u001b[0mself\u001b[0m\u001b[0;34m.\u001b[0m\u001b[0mcanvas\u001b[0m\u001b[0;34m.\u001b[0m\u001b[0mprint_figure\u001b[0m\u001b[0;34m(\u001b[0m\u001b[0;34m*\u001b[0m\u001b[0margs\u001b[0m\u001b[0;34m,\u001b[0m \u001b[0;34m**\u001b[0m\u001b[0mkwargs\u001b[0m\u001b[0;34m)\u001b[0m\u001b[0;34m\u001b[0m\u001b[0m\n\u001b[0m\u001b[1;32m   1564\u001b[0m \u001b[0;34m\u001b[0m\u001b[0m\n\u001b[1;32m   1565\u001b[0m         \u001b[0;32mif\u001b[0m \u001b[0mframeon\u001b[0m\u001b[0;34m:\u001b[0m\u001b[0;34m\u001b[0m\u001b[0m\n",
      "\u001b[0;32m/Users/travis/anaconda2/lib/python2.7/site-packages/matplotlib/backend_bases.pyc\u001b[0m in \u001b[0;36mprint_figure\u001b[0;34m(self, filename, dpi, facecolor, edgecolor, orientation, format, **kwargs)\u001b[0m\n\u001b[1;32m   2230\u001b[0m                 \u001b[0morientation\u001b[0m\u001b[0;34m=\u001b[0m\u001b[0morientation\u001b[0m\u001b[0;34m,\u001b[0m\u001b[0;34m\u001b[0m\u001b[0m\n\u001b[1;32m   2231\u001b[0m                 \u001b[0mbbox_inches_restore\u001b[0m\u001b[0;34m=\u001b[0m\u001b[0m_bbox_inches_restore\u001b[0m\u001b[0;34m,\u001b[0m\u001b[0;34m\u001b[0m\u001b[0m\n\u001b[0;32m-> 2232\u001b[0;31m                 **kwargs)\n\u001b[0m\u001b[1;32m   2233\u001b[0m         \u001b[0;32mfinally\u001b[0m\u001b[0;34m:\u001b[0m\u001b[0;34m\u001b[0m\u001b[0m\n\u001b[1;32m   2234\u001b[0m             \u001b[0;32mif\u001b[0m \u001b[0mbbox_inches\u001b[0m \u001b[0;32mand\u001b[0m \u001b[0mrestore_bbox\u001b[0m\u001b[0;34m:\u001b[0m\u001b[0;34m\u001b[0m\u001b[0m\n",
      "\u001b[0;32m/Users/travis/anaconda2/lib/python2.7/site-packages/matplotlib/backends/backend_agg.pyc\u001b[0m in \u001b[0;36mprint_png\u001b[0;34m(self, filename_or_obj, *args, **kwargs)\u001b[0m\n\u001b[1;32m    530\u001b[0m         \u001b[0mrenderer\u001b[0m\u001b[0;34m.\u001b[0m\u001b[0mdpi\u001b[0m \u001b[0;34m=\u001b[0m \u001b[0mself\u001b[0m\u001b[0;34m.\u001b[0m\u001b[0mfigure\u001b[0m\u001b[0;34m.\u001b[0m\u001b[0mdpi\u001b[0m\u001b[0;34m\u001b[0m\u001b[0m\n\u001b[1;32m    531\u001b[0m         \u001b[0;32mif\u001b[0m \u001b[0mis_string_like\u001b[0m\u001b[0;34m(\u001b[0m\u001b[0mfilename_or_obj\u001b[0m\u001b[0;34m)\u001b[0m\u001b[0;34m:\u001b[0m\u001b[0;34m\u001b[0m\u001b[0m\n\u001b[0;32m--> 532\u001b[0;31m             \u001b[0mfilename_or_obj\u001b[0m \u001b[0;34m=\u001b[0m \u001b[0mopen\u001b[0m\u001b[0;34m(\u001b[0m\u001b[0mfilename_or_obj\u001b[0m\u001b[0;34m,\u001b[0m \u001b[0;34m'wb'\u001b[0m\u001b[0;34m)\u001b[0m\u001b[0;34m\u001b[0m\u001b[0m\n\u001b[0m\u001b[1;32m    533\u001b[0m             \u001b[0mclose\u001b[0m \u001b[0;34m=\u001b[0m \u001b[0mTrue\u001b[0m\u001b[0;34m\u001b[0m\u001b[0m\n\u001b[1;32m    534\u001b[0m         \u001b[0;32melse\u001b[0m\u001b[0;34m:\u001b[0m\u001b[0;34m\u001b[0m\u001b[0m\n",
      "\u001b[0;31mIOError\u001b[0m: [Errno 2] No such file or directory: u'../images/roc_curve-736413.png'"
     ]
    },
    {
     "data": {
      "image/png": "[encoded data removed]",
      "text/plain": [
       "<matplotlib.figure.Figure at 0x124dc2450>"
      ]
     },
     "metadata": {},
     "output_type": "display_data"
    }
   ],
   "source": [
    "roc_curve_many('data/rf', save_file='images/rf_eval.png')"
   ]
  },
  {
   "cell_type": "code",
   "execution_count": 452,
   "metadata": {
    "collapsed": false
   },
   "outputs": [],
   "source": [
    "panda = pd.read_json('data/rf/161_tree_rf.json')"
   ]
  },
  {
   "cell_type": "code",
   "execution_count": 453,
   "metadata": {
    "collapsed": false
   },
   "outputs": [],
   "source": [
    "panda['delinq_2yrs'] = panda['delinq_2yrs'].fillna(0)\n",
    "panda['delinq_2yrs'] = panda['delinq_2yrs'].apply(lambda x: 1 if x > 0 else 0)\n",
    "panda.columns = ['probability', 'label']"
   ]
  },
  {
   "cell_type": "code",
   "execution_count": 454,
   "metadata": {
    "collapsed": false
   },
   "outputs": [
    {
     "data": {
      "text/plain": [
       "<matplotlib.axes._subplots.AxesSubplot at 0x11a3a6f90>"
      ]
     },
     "execution_count": 454,
     "metadata": {},
     "output_type": "execute_result"
    },
    {
     "data": {
      "image/png": "[encoded data removed]",
      "text/plain": [
       "<matplotlib.figure.Figure at 0x11a3adf10>"
      ]
     },
     "metadata": {},
     "output_type": "display_data"
    }
   ],
   "source": [
    "panda['probability'].hist(bins=70)"
   ]
  },
  {
   "cell_type": "code",
   "execution_count": null,
   "metadata": {
    "collapsed": true
   },
   "outputs": [],
   "source": [
    "panda['probability'].hist"
   ]
  },
  {
   "cell_type": "code",
   "execution_count": null,
   "metadata": {
    "collapsed": true
   },
   "outputs": [],
   "source": []
  }
 ],
 "metadata": {
  "anaconda-cloud": {},
  "kernelspec": {
   "display_name": "Python [conda root]",
   "language": "python",
   "name": "conda-root-py"
  },
  "language_info": {
   "codemirror_mode": {
    "name": "ipython",
    "version": 2
   },
   "file_extension": ".py",
   "mimetype": "text/x-python",
   "name": "python",
   "nbconvert_exporter": "python",
   "pygments_lexer": "ipython2",
   "version": "2.7.12"
  }
 },
 "nbformat": 4,
 "nbformat_minor": 1
}
