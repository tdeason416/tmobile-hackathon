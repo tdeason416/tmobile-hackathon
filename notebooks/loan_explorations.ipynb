{
 "cells": [
  {
   "cell_type": "code",
   "execution_count": 5,
   "metadata": {
    "collapsed": false
   },
   "outputs": [
    {
     "name": "stdout",
     "output_type": "stream",
     "text": [
      "The autoreload extension is already loaded. To reload it, use:\n",
      "  %reload_ext autoreload\n"
     ]
    }
   ],
   "source": [
    "import pandas as pd\n",
    "import numpy as np\n",
    "import matplotlib.pyplot as plt\n",
    "%matplotlib inline\n",
    "plt.style.use('ggplot')\n",
    "\n",
    "%load_ext autoreload\n",
    "%autoreload 2\n",
    "\n",
    "import itertools"
   ]
  },
  {
   "cell_type": "code",
   "execution_count": 6,
   "metadata": {
    "collapsed": false
   },
   "outputs": [
    {
     "data": {
      "text/plain": [
       "u'/Users/travis/Documents/hackathons/tmobile-hackathon/notebooks'"
      ]
     },
     "execution_count": 6,
     "metadata": {},
     "output_type": "execute_result"
    }
   ],
   "source": [
    "%pwd"
   ]
  },
  {
   "cell_type": "code",
   "execution_count": 7,
   "metadata": {
    "collapsed": true
   },
   "outputs": [],
   "source": [
    "import sklearn.model_selection as ms\n",
    "import sklearn.linear_model as lm\n",
    "import sklearn.ensemble as ens"
   ]
  },
  {
   "cell_type": "markdown",
   "metadata": {},
   "source": [
    "## Collect and review data, eliminate columns which do not pertain to phone loans"
   ]
  },
  {
   "cell_type": "code",
   "execution_count": 105,
   "metadata": {
    "collapsed": false
   },
   "outputs": [],
   "source": [
    "loans = pd.read_csv('../data/loan.csv')"
   ]
  },
  {
   "cell_type": "code",
   "execution_count": 106,
   "metadata": {
    "collapsed": false
   },
   "outputs": [
    {
     "data": {
      "text/plain": [
       "\"'inq_fi','total_cu_tl','inq_last_12m'\""
      ]
     },
     "execution_count": 106,
     "metadata": {},
     "output_type": "execute_result"
    }
   ],
   "source": [
    ",'collections_12_mths_ex_med','mths_since_last_major_derog','policy_code','annual_inc_joint'\n",
    ",'dti_joint','verification_status_joint','acc_now_delinq','tot_coll_amt','tot_cur_bal'\n",
    ",'open_acc_6m','open_il_6m','open_il_12m','open_il_24m','mths_since_rcnt_il','total_bal_il'\n",
    ",'il_util','open_rv_12m','open_rv_24m','max_bal_bc','all_util','total_rev_hi_lim'\n",
    ",'inq_fi','total_cu_tl','inq_last_12m'"
   ]
  },
  {
   "cell_type": "code",
   "execution_count": 107,
   "metadata": {
    "collapsed": true
   },
   "outputs": [],
   "source": [
    "dropcols = ['id', 'member_id', 'funded_amnt_inv', 'grade', 'sub_grade', 'verification_status',\n",
    "           'url', 'desc', 'title' , 'addr_state', 'dti', 'earliest_cr_line', 'inq_last_6mths',\n",
    "            'mths_since_last_delinq', 'mths_since_last_record', 'open_acc', 'pub_rec', 'revol_bal'\n",
    "           'revol_bal', 'revol_util', 'total_acc', 'total_pymnt', 'total_pymnt_inv', 'total_pymnt',\n",
    "           'total_pymnt_inv','total_rec_prncp', 'total_rec_int','total_rec_late_fee', 'recoveries',\n",
    "            'collection_recovery_fee','last_pymnt_d','last_pymnt_amnt','next_pymnt_d',\n",
    "            'last_credit_pull_d','collections_12_mths_ex_med','mths_since_last_major_derog','policy_code','annual_inc_joint'\n",
    "            ,'dti_joint','verification_status_joint','acc_now_delinq','tot_coll_amt','tot_cur_bal'\n",
    "            ,'open_acc_6m','open_il_6m','open_il_12m','open_il_24m','mths_since_rcnt_il','total_bal_il'\n",
    "            ,'il_util','open_rv_12m','open_rv_24m','max_bal_bc','all_util','total_rev_hi_lim'\n",
    "            ,'inq_fi','total_cu_tl','inq_last_12m'\n",
    "                   ]\n",
    "dropcols = set(dropcols)\n",
    "keep_cols = []\n",
    "for col in loans.columns:\n",
    "    if col not in dropcols:\n",
    "        keep_cols.append(col)"
   ]
  },
  {
   "cell_type": "code",
   "execution_count": 114,
   "metadata": {
    "collapsed": false
   },
   "outputs": [
    {
     "name": "stderr",
     "output_type": "stream",
     "text": [
      "/Users/travis/anaconda2/lib/python2.7/site-packages/ipykernel/__main__.py:9: SettingWithCopyWarning: \n",
      "A value is trying to be set on a copy of a slice from a DataFrame\n",
      "\n",
      "See the caveats in the documentation: http://pandas.pydata.org/pandas-docs/stable/indexing.html#indexing-view-versus-copy\n"
     ]
    }
   ],
   "source": [
    "y_cols = ['delinq_2yrs']\n",
    "# 'delinq_2yrs' The number of 30+ days past-due incidences of delinquency in the borrower's credit file for the past 2 years\n",
    "\n",
    "purpose_keeprows = ['small_business', 'credit_card', 'other']\n",
    "\n",
    "\n",
    "loans_ = loans[keep_cols]\n",
    "loans_clean = loans_[loans_['purpose'] == 'credit_card']\n",
    "loans_clean.dropna(inplace=True)\n",
    "loans_y = loans_clean.pop('delinq_2yrs')\n",
    "\n",
    "## remove the word months from term\n",
    "## change 'issue_d' to day of week or month to see if it helps"
   ]
  },
  {
   "cell_type": "code",
   "execution_count": 115,
   "metadata": {
    "collapsed": false
   },
   "outputs": [],
   "source": [
    "loans_y_bin = loans_y.apply(lambda x: 1 if x > 1 else 0)"
   ]
  },
  {
   "cell_type": "markdown",
   "metadata": {},
   "source": [
    "## Clean data which remains make sure it's numeric, and add dummy variables where needed"
   ]
  },
  {
   "cell_type": "code",
   "execution_count": 116,
   "metadata": {
    "collapsed": true
   },
   "outputs": [],
   "source": [
    "# atonum = {l:n for n, l in enumerate('abcdefghijklmnopqrstuv'.upper())}"
   ]
  },
  {
   "cell_type": "code",
   "execution_count": 117,
   "metadata": {
    "collapsed": false
   },
   "outputs": [
    {
     "name": "stdout",
     "output_type": "stream",
     "text": [
      "<class 'pandas.core.frame.DataFrame'>\n",
      "Int64Index: 193647 entries, 13 to 887378\n",
      "Data columns (total 19 columns):\n",
      "loan_amnt              193647 non-null float64\n",
      "funded_amnt            193647 non-null float64\n",
      "term                   193647 non-null object\n",
      "int_rate               193647 non-null float64\n",
      "installment            193647 non-null float64\n",
      "emp_title              193647 non-null object\n",
      "emp_length             193647 non-null object\n",
      "home_ownership         193647 non-null object\n",
      "annual_inc             193647 non-null float64\n",
      "issue_d                193647 non-null object\n",
      "loan_status            193647 non-null object\n",
      "pymnt_plan             193647 non-null object\n",
      "purpose                193647 non-null object\n",
      "zip_code               193647 non-null object\n",
      "revol_bal              193647 non-null float64\n",
      "initial_list_status    193647 non-null object\n",
      "out_prncp              193647 non-null float64\n",
      "out_prncp_inv          193647 non-null float64\n",
      "application_type       193647 non-null object\n",
      "dtypes: float64(8), object(11)\n",
      "memory usage: 29.5+ MB\n"
     ]
    }
   ],
   "source": [
    "loans_clean.info()"
   ]
  },
  {
   "cell_type": "code",
   "execution_count": 118,
   "metadata": {
    "collapsed": false
   },
   "outputs": [
    {
     "name": "stdout",
     "output_type": "stream",
     "text": [
      "<class 'pandas.core.frame.DataFrame'>\n",
      "Int64Index: 193647 entries, 13 to 887378\n",
      "Data columns (total 18 columns):\n",
      "loan_amnt              193647 non-null float64\n",
      "funded_amnt            193647 non-null float64\n",
      "term                   193647 non-null object\n",
      "int_rate               193647 non-null float64\n",
      "installment            193647 non-null float64\n",
      "emp_title              193647 non-null object\n",
      "emp_length             193647 non-null object\n",
      "home_ownership         193647 non-null object\n",
      "annual_inc             193647 non-null float64\n",
      "loan_status            193647 non-null object\n",
      "pymnt_plan             193647 non-null object\n",
      "purpose                193647 non-null object\n",
      "zip_code               193647 non-null object\n",
      "revol_bal              193647 non-null float64\n",
      "initial_list_status    193647 non-null object\n",
      "out_prncp              193647 non-null float64\n",
      "out_prncp_inv          193647 non-null float64\n",
      "application_type       193647 non-null object\n",
      "dtypes: float64(8), object(10)\n",
      "memory usage: 28.1+ MB\n"
     ]
    }
   ],
   "source": [
    "loans_clean_.info()"
   ]
  },
  {
   "cell_type": "code",
   "execution_count": 176,
   "metadata": {
    "collapsed": false
   },
   "outputs": [],
   "source": [
    "loans_clean_ = loans_clean.copy()\n",
    "loans_clean_['issue_d'] = loans_clean['issue_d'].apply(pd.Timestamp)\n",
    "loans_clean_['year'] = loans_clean_['issue_d'].apply(lambda x: x.year)\n",
    "loans_clean_['zip_code'] = loans_clean_['zip_code'].astype('category')\n",
    "loans_clean_.drop(['application_type', 'purpose', \n",
    "                   'pymnt_plan', 'issue_d', 'loan_status'], axis=1, inplace=True)"
   ]
  },
  {
   "cell_type": "code",
   "execution_count": 177,
   "metadata": {
    "collapsed": true
   },
   "outputs": [],
   "source": [
    "rows_need_dummies = ['emp_title', 'initial_list_status', \n",
    "                     'home_ownership', 'emp_length', 'term', 'zip_code']"
   ]
  },
  {
   "cell_type": "code",
   "execution_count": 178,
   "metadata": {
    "collapsed": true
   },
   "outputs": [],
   "source": [
    "def make_dummy(df, cols):\n",
    "    df_ = df.copy()\n",
    "    for col in cols:\n",
    "        for value in df[col].value_counts().nlargest(50).index:\n",
    "            df_['{}_{}'.format(col, value)] = df[col] == value\n",
    "        df_.drop(col, axis=1, inplace=True)\n",
    "    return df_"
   ]
  },
  {
   "cell_type": "code",
   "execution_count": 179,
   "metadata": {
    "collapsed": false
   },
   "outputs": [],
   "source": [
    "loans_model = make_dummy(loans_clean_, rows_need_dummies)"
   ]
  },
  {
   "cell_type": "markdown",
   "metadata": {},
   "source": [
    "## Train logistic regression Classifier"
   ]
  },
  {
   "cell_type": "code",
   "execution_count": 180,
   "metadata": {
    "collapsed": false
   },
   "outputs": [],
   "source": [
    "Xtr, Xte, ytr, yte = ms.train_test_split(loans_model, loans_y_bin, test_size= .15)"
   ]
  },
  {
   "cell_type": "code",
   "execution_count": 181,
   "metadata": {
    "collapsed": true
   },
   "outputs": [],
   "source": [
    "model = lm.LogisticRegression(max_iter=400,  C=.75, n_jobs=-1)"
   ]
  },
  {
   "cell_type": "code",
   "execution_count": 182,
   "metadata": {
    "collapsed": false
   },
   "outputs": [
    {
     "data": {
      "text/plain": [
       "LogisticRegression(C=0.75, class_weight=None, dual=False, fit_intercept=True,\n",
       "          intercept_scaling=1, max_iter=400, multi_class='ovr', n_jobs=-1,\n",
       "          penalty='l2', random_state=None, solver='liblinear', tol=0.0001,\n",
       "          verbose=0, warm_start=False)"
      ]
     },
     "execution_count": 182,
     "metadata": {},
     "output_type": "execute_result"
    }
   ],
   "source": [
    "model.fit(Xtr, ytr)"
   ]
  },
  {
   "cell_type": "code",
   "execution_count": 201,
   "metadata": {
    "collapsed": true
   },
   "outputs": [],
   "source": [
    "probs = model.predict_proba(Xte)\n",
    "probs = probs[:,1]"
   ]
  },
  {
   "cell_type": "code",
   "execution_count": 294,
   "metadata": {
    "collapsed": false
   },
   "outputs": [],
   "source": [
    "def generate_roc_curve(probs, yte, n_iter= 200):\n",
    "    '''\n",
    "    '''\n",
    "    thres_list = np.linspace(0,1,n_iter)\n",
    "#     thres_list = np.sqrt(thres_list)\n",
    "    rocs = []\n",
    "    test = yte.reshape(-1,1)\n",
    "    proba = probs.reshape(-1,1)\n",
    "    pframe = pd.DataFrame(np.append(proba, test, axis=1), columns= ['predict', 'label'])\n",
    "    c_true = pframe[pframe['label'] == 1]\n",
    "    c_false = pframe[pframe['label'] != 1]\n",
    "    for thres in thres_list:\n",
    "        tpr = float((c_true['predict'] > thres).sum()) / c_true.shape[0]\n",
    "        fpr = float((c_false['predict'] > thres).sum()) / c_false.shape[0]\n",
    "        rocs.append({'tpr' : tpr, 'fpr': fpr})\n",
    "    return rocs"
   ]
  },
  {
   "cell_type": "code",
   "execution_count": 320,
   "metadata": {
    "collapsed": false
   },
   "outputs": [
    {
     "ename": "NameError",
     "evalue": "name 'out_prncp_inv' is not defined",
     "output_type": "error",
     "traceback": [
      "\u001b[0;31m-----------------------------------------------------------------------\u001b[0m",
      "\u001b[0;31mNameError\u001b[0m                             Traceback (most recent call last)",
      "\u001b[0;32m<ipython-input-320-57dc45fdf78c>\u001b[0m in \u001b[0;36m<module>\u001b[0;34m()\u001b[0m\n\u001b[0;32m----> 1\u001b[0;31m \u001b[0mloans_clean_\u001b[0m\u001b[0;34m[\u001b[0m\u001b[0mout_prncp_inv\u001b[0m\u001b[0;34m]\u001b[0m\u001b[0;34m.\u001b[0m\u001b[0mnlargest\u001b[0m\u001b[0;34m(\u001b[0m\u001b[0;34m)\u001b[0m\u001b[0;34m\u001b[0m\u001b[0m\n\u001b[0m",
      "\u001b[0;31mNameError\u001b[0m: name 'out_prncp_inv' is not defined"
     ]
    }
   ],
   "source": [
    "loans_clean_[out_prncp_inv].nlargest()"
   ]
  },
  {
   "cell_type": "code",
   "execution_count": 299,
   "metadata": {
    "collapsed": false
   },
   "outputs": [],
   "source": [
    "rocs = generate_roc_curve(probs, yte, n_iter=2000)"
   ]
  },
  {
   "cell_type": "code",
   "execution_count": 300,
   "metadata": {
    "collapsed": true
   },
   "outputs": [],
   "source": [
    "colors = itertools.cycle(['green', 'red', 'cyan', 'orange', 'violet',\n",
    "                          'yellow', 'blue', 'pink'])"
   ]
  },
  {
   "cell_type": "code",
   "execution_count": 301,
   "metadata": {
    "collapsed": false
   },
   "outputs": [
    {
     "name": "stdout",
     "output_type": "stream",
     "text": [
      "2000\n"
     ]
    },
    {
     "data": {
      "image/png": "[encoded data removed]",
      "text/plain": [
       "<matplotlib.figure.Figure at 0x113849350>"
      ]
     },
     "metadata": {},
     "output_type": "display_data"
    }
   ],
   "source": [
    "fig, ax = plt.subplots(1, 1, figsize=(13, 13))\n",
    "fpr = []\n",
    "tpr = []\n",
    "for row in rocs:\n",
    "    fpr.append(row['fpr'])\n",
    "    tpr.append(row['tpr'])\n",
    "print len(fpr)\n",
    "ax.scatter(fpr, tpr, color=colors.next())\n",
    "ax.plot(np.linspace(0,1,10), np.linspace(0,1,10))\n",
    "ax.set_xlim(0,1)\n",
    "ax.set_ylim(0,1)\n",
    "\n",
    "fig.savefig('../images/1stROC.png')\n"
   ]
  },
  {
   "cell_type": "code",
   "execution_count": 317,
   "metadata": {
    "collapsed": false
   },
   "outputs": [],
   "source": [
    "col_vals = pd.DataFrame(model.coef_, columns=loans_model.columns)"
   ]
  },
  {
   "cell_type": "code",
   "execution_count": 314,
   "metadata": {
    "collapsed": false
   },
   "outputs": [
    {
     "data": {
      "text/html": [
       "<div>\n",
       "<table border=\"1\" class=\"dataframe\">\n",
       "  <thead>\n",
       "    <tr style=\"text-align: right;\">\n",
       "      <th></th>\n",
       "      <th>0</th>\n",
       "    </tr>\n",
       "  </thead>\n",
       "  <tbody>\n",
       "    <tr>\n",
       "      <th>loan_amnt</th>\n",
       "      <td>-4.627419e-04</td>\n",
       "    </tr>\n",
       "    <tr>\n",
       "      <th>funded_amnt</th>\n",
       "      <td>4.233388e-04</td>\n",
       "    </tr>\n",
       "    <tr>\n",
       "      <th>int_rate</th>\n",
       "      <td>5.550602e-04</td>\n",
       "    </tr>\n",
       "    <tr>\n",
       "      <th>installment</th>\n",
       "      <td>9.959149e-04</td>\n",
       "    </tr>\n",
       "    <tr>\n",
       "      <th>annual_inc</th>\n",
       "      <td>2.798749e-06</td>\n",
       "    </tr>\n",
       "    <tr>\n",
       "      <th>revol_bal</th>\n",
       "      <td>-1.155563e-05</td>\n",
       "    </tr>\n",
       "    <tr>\n",
       "      <th>out_prncp</th>\n",
       "      <td>3.004557e-04</td>\n",
       "    </tr>\n",
       "    <tr>\n",
       "      <th>out_prncp_inv</th>\n",
       "      <td>-2.792154e-04</td>\n",
       "    </tr>\n",
       "    <tr>\n",
       "      <th>year</th>\n",
       "      <td>-1.452733e-03</td>\n",
       "    </tr>\n",
       "    <tr>\n",
       "      <th>emp_title_Teacher</th>\n",
       "      <td>1.265106e-05</td>\n",
       "    </tr>\n",
       "    <tr>\n",
       "      <th>emp_title_Manager</th>\n",
       "      <td>-5.622944e-07</td>\n",
       "    </tr>\n",
       "    <tr>\n",
       "      <th>emp_title_Owner</th>\n",
       "      <td>1.841017e-08</td>\n",
       "    </tr>\n",
       "    <tr>\n",
       "      <th>emp_title_RN</th>\n",
       "      <td>4.701863e-06</td>\n",
       "    </tr>\n",
       "    <tr>\n",
       "      <th>emp_title_Registered Nurse</th>\n",
       "      <td>2.243457e-06</td>\n",
       "    </tr>\n",
       "    <tr>\n",
       "      <th>emp_title_Supervisor</th>\n",
       "      <td>-4.095102e-07</td>\n",
       "    </tr>\n",
       "    <tr>\n",
       "      <th>emp_title_Project Manager</th>\n",
       "      <td>1.812890e-06</td>\n",
       "    </tr>\n",
       "    <tr>\n",
       "      <th>emp_title_Sales</th>\n",
       "      <td>-4.547428e-07</td>\n",
       "    </tr>\n",
       "    <tr>\n",
       "      <th>emp_title_Office Manager</th>\n",
       "      <td>6.947922e-07</td>\n",
       "    </tr>\n",
       "    <tr>\n",
       "      <th>emp_title_Director</th>\n",
       "      <td>9.648241e-07</td>\n",
       "    </tr>\n",
       "    <tr>\n",
       "      <th>emp_title_General Manager</th>\n",
       "      <td>-5.851632e-07</td>\n",
       "    </tr>\n",
       "    <tr>\n",
       "      <th>emp_title_Driver</th>\n",
       "      <td>-1.954091e-06</td>\n",
       "    </tr>\n",
       "    <tr>\n",
       "      <th>emp_title_Attorney</th>\n",
       "      <td>1.752700e-06</td>\n",
       "    </tr>\n",
       "    <tr>\n",
       "      <th>emp_title_teacher</th>\n",
       "      <td>4.638032e-06</td>\n",
       "    </tr>\n",
       "    <tr>\n",
       "      <th>emp_title_President</th>\n",
       "      <td>-5.371362e-07</td>\n",
       "    </tr>\n",
       "    <tr>\n",
       "      <th>emp_title_Engineer</th>\n",
       "      <td>5.412668e-07</td>\n",
       "    </tr>\n",
       "    <tr>\n",
       "      <th>emp_title_manager</th>\n",
       "      <td>-7.939720e-07</td>\n",
       "    </tr>\n",
       "    <tr>\n",
       "      <th>emp_title_Vice President</th>\n",
       "      <td>9.526404e-07</td>\n",
       "    </tr>\n",
       "    <tr>\n",
       "      <th>emp_title_owner</th>\n",
       "      <td>3.006751e-07</td>\n",
       "    </tr>\n",
       "    <tr>\n",
       "      <th>emp_title_Accountant</th>\n",
       "      <td>-8.135465e-07</td>\n",
       "    </tr>\n",
       "    <tr>\n",
       "      <th>emp_title_driver</th>\n",
       "      <td>-4.983600e-07</td>\n",
       "    </tr>\n",
       "    <tr>\n",
       "      <th>...</th>\n",
       "      <td>...</td>\n",
       "    </tr>\n",
       "    <tr>\n",
       "      <th>zip_code_021xx</th>\n",
       "      <td>-5.992821e-07</td>\n",
       "    </tr>\n",
       "    <tr>\n",
       "      <th>zip_code_113xx</th>\n",
       "      <td>-1.786411e-06</td>\n",
       "    </tr>\n",
       "    <tr>\n",
       "      <th>zip_code_601xx</th>\n",
       "      <td>2.768639e-07</td>\n",
       "    </tr>\n",
       "    <tr>\n",
       "      <th>zip_code_913xx</th>\n",
       "      <td>5.963818e-07</td>\n",
       "    </tr>\n",
       "    <tr>\n",
       "      <th>zip_code_604xx</th>\n",
       "      <td>-1.390078e-06</td>\n",
       "    </tr>\n",
       "    <tr>\n",
       "      <th>zip_code_802xx</th>\n",
       "      <td>-1.889247e-06</td>\n",
       "    </tr>\n",
       "    <tr>\n",
       "      <th>zip_code_920xx</th>\n",
       "      <td>-9.592443e-07</td>\n",
       "    </tr>\n",
       "    <tr>\n",
       "      <th>zip_code_481xx</th>\n",
       "      <td>1.893985e-06</td>\n",
       "    </tr>\n",
       "    <tr>\n",
       "      <th>zip_code_080xx</th>\n",
       "      <td>2.232660e-06</td>\n",
       "    </tr>\n",
       "    <tr>\n",
       "      <th>zip_code_334xx</th>\n",
       "      <td>-7.550769e-07</td>\n",
       "    </tr>\n",
       "    <tr>\n",
       "      <th>zip_code_980xx</th>\n",
       "      <td>-7.358093e-07</td>\n",
       "    </tr>\n",
       "    <tr>\n",
       "      <th>zip_code_928xx</th>\n",
       "      <td>-9.252112e-07</td>\n",
       "    </tr>\n",
       "    <tr>\n",
       "      <th>zip_code_554xx</th>\n",
       "      <td>-1.179867e-07</td>\n",
       "    </tr>\n",
       "    <tr>\n",
       "      <th>zip_code_925xx</th>\n",
       "      <td>-1.501633e-06</td>\n",
       "    </tr>\n",
       "    <tr>\n",
       "      <th>zip_code_850xx</th>\n",
       "      <td>-1.754378e-06</td>\n",
       "    </tr>\n",
       "    <tr>\n",
       "      <th>zip_code_553xx</th>\n",
       "      <td>6.438810e-07</td>\n",
       "    </tr>\n",
       "    <tr>\n",
       "      <th>zip_code_301xx</th>\n",
       "      <td>-2.232365e-07</td>\n",
       "    </tr>\n",
       "    <tr>\n",
       "      <th>zip_code_605xx</th>\n",
       "      <td>-1.875966e-07</td>\n",
       "    </tr>\n",
       "    <tr>\n",
       "      <th>zip_code_787xx</th>\n",
       "      <td>-2.844468e-07</td>\n",
       "    </tr>\n",
       "    <tr>\n",
       "      <th>zip_code_951xx</th>\n",
       "      <td>-3.021391e-07</td>\n",
       "    </tr>\n",
       "    <tr>\n",
       "      <th>zip_code_760xx</th>\n",
       "      <td>9.222211e-07</td>\n",
       "    </tr>\n",
       "    <tr>\n",
       "      <th>zip_code_956xx</th>\n",
       "      <td>-2.034679e-07</td>\n",
       "    </tr>\n",
       "    <tr>\n",
       "      <th>zip_code_752xx</th>\n",
       "      <td>-4.847126e-07</td>\n",
       "    </tr>\n",
       "    <tr>\n",
       "      <th>zip_code_201xx</th>\n",
       "      <td>-8.003738e-08</td>\n",
       "    </tr>\n",
       "    <tr>\n",
       "      <th>zip_code_303xx</th>\n",
       "      <td>-1.195573e-06</td>\n",
       "    </tr>\n",
       "    <tr>\n",
       "      <th>zip_code_774xx</th>\n",
       "      <td>-1.336709e-07</td>\n",
       "    </tr>\n",
       "    <tr>\n",
       "      <th>zip_code_853xx</th>\n",
       "      <td>1.665640e-07</td>\n",
       "    </tr>\n",
       "    <tr>\n",
       "      <th>zip_code_773xx</th>\n",
       "      <td>-3.448530e-07</td>\n",
       "    </tr>\n",
       "    <tr>\n",
       "      <th>zip_code_088xx</th>\n",
       "      <td>2.023939e-06</td>\n",
       "    </tr>\n",
       "    <tr>\n",
       "      <th>zip_code_902xx</th>\n",
       "      <td>-3.562564e-07</td>\n",
       "    </tr>\n",
       "  </tbody>\n",
       "</table>\n",
       "<p>130 rows × 1 columns</p>\n",
       "</div>"
      ],
      "text/plain": [
       "                                       0\n",
       "loan_amnt                  -4.627419e-04\n",
       "funded_amnt                 4.233388e-04\n",
       "int_rate                    5.550602e-04\n",
       "installment                 9.959149e-04\n",
       "annual_inc                  2.798749e-06\n",
       "revol_bal                  -1.155563e-05\n",
       "out_prncp                   3.004557e-04\n",
       "out_prncp_inv              -2.792154e-04\n",
       "year                       -1.452733e-03\n",
       "emp_title_Teacher           1.265106e-05\n",
       "emp_title_Manager          -5.622944e-07\n",
       "emp_title_Owner             1.841017e-08\n",
       "emp_title_RN                4.701863e-06\n",
       "emp_title_Registered Nurse  2.243457e-06\n",
       "emp_title_Supervisor       -4.095102e-07\n",
       "emp_title_Project Manager   1.812890e-06\n",
       "emp_title_Sales            -4.547428e-07\n",
       "emp_title_Office Manager    6.947922e-07\n",
       "emp_title_Director          9.648241e-07\n",
       "emp_title_General Manager  -5.851632e-07\n",
       "emp_title_Driver           -1.954091e-06\n",
       "emp_title_Attorney          1.752700e-06\n",
       "emp_title_teacher           4.638032e-06\n",
       "emp_title_President        -5.371362e-07\n",
       "emp_title_Engineer          5.412668e-07\n",
       "emp_title_manager          -7.939720e-07\n",
       "emp_title_Vice President    9.526404e-07\n",
       "emp_title_owner             3.006751e-07\n",
       "emp_title_Accountant       -8.135465e-07\n",
       "emp_title_driver           -4.983600e-07\n",
       "...                                  ...\n",
       "zip_code_021xx             -5.992821e-07\n",
       "zip_code_113xx             -1.786411e-06\n",
       "zip_code_601xx              2.768639e-07\n",
       "zip_code_913xx              5.963818e-07\n",
       "zip_code_604xx             -1.390078e-06\n",
       "zip_code_802xx             -1.889247e-06\n",
       "zip_code_920xx             -9.592443e-07\n",
       "zip_code_481xx              1.893985e-06\n",
       "zip_code_080xx              2.232660e-06\n",
       "zip_code_334xx             -7.550769e-07\n",
       "zip_code_980xx             -7.358093e-07\n",
       "zip_code_928xx             -9.252112e-07\n",
       "zip_code_554xx             -1.179867e-07\n",
       "zip_code_925xx             -1.501633e-06\n",
       "zip_code_850xx             -1.754378e-06\n",
       "zip_code_553xx              6.438810e-07\n",
       "zip_code_301xx             -2.232365e-07\n",
       "zip_code_605xx             -1.875966e-07\n",
       "zip_code_787xx             -2.844468e-07\n",
       "zip_code_951xx             -3.021391e-07\n",
       "zip_code_760xx              9.222211e-07\n",
       "zip_code_956xx             -2.034679e-07\n",
       "zip_code_752xx             -4.847126e-07\n",
       "zip_code_201xx             -8.003738e-08\n",
       "zip_code_303xx             -1.195573e-06\n",
       "zip_code_774xx             -1.336709e-07\n",
       "zip_code_853xx              1.665640e-07\n",
       "zip_code_773xx             -3.448530e-07\n",
       "zip_code_088xx              2.023939e-06\n",
       "zip_code_902xx             -3.562564e-07\n",
       "\n",
       "[130 rows x 1 columns]"
      ]
     },
     "execution_count": 314,
     "metadata": {},
     "output_type": "execute_result"
    }
   ],
   "source": [
    "col_vals.T"
   ]
  },
  {
   "cell_type": "code",
   "execution_count": null,
   "metadata": {
    "collapsed": true
   },
   "outputs": [],
   "source": []
  }
 ],
 "metadata": {
  "anaconda-cloud": {},
  "kernelspec": {
   "display_name": "Python [conda root]",
   "language": "python",
   "name": "conda-root-py"
  },
  "language_info": {
   "codemirror_mode": {
    "name": "ipython",
    "version": 2
   },
   "file_extension": ".py",
   "mimetype": "text/x-python",
   "name": "python",
   "nbconvert_exporter": "python",
   "pygments_lexer": "ipython2",
   "version": "2.7.12"
  }
 },
 "nbformat": 4,
 "nbformat_minor": 1
}
