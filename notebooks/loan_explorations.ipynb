{
 "cells": [
  {
   "cell_type": "code",
   "execution_count": 5,
   "metadata": {
    "collapsed": false
   },
   "outputs": [
    {
     "name": "stdout",
     "output_type": "stream",
     "text": [
      "The autoreload extension is already loaded. To reload it, use:\n",
      "  %reload_ext autoreload\n"
     ]
    }
   ],
   "source": [
    "import pandas as pd\n",
    "import numpy as np\n",
    "import matplotlib.pyplot as plt\n",
    "%matplotlib inline\n",
    "plt.style.use('ggplot')\n",
    "\n",
    "%load_ext autoreload\n",
    "%autoreload 2\n",
    "\n",
    "import itertools"
   ]
  },
  {
   "cell_type": "code",
   "execution_count": 6,
   "metadata": {
    "collapsed": false
   },
   "outputs": [
    {
     "data": {
      "text/plain": [
       "u'/Users/travis/Documents/hackathons/tmobile-hackathon/notebooks'"
      ]
     },
     "execution_count": 6,
     "metadata": {},
     "output_type": "execute_result"
    }
   ],
   "source": [
    "%pwd"
   ]
  },
  {
   "cell_type": "code",
   "execution_count": 7,
   "metadata": {
    "collapsed": true
   },
   "outputs": [],
   "source": [
    "import sklearn.model_selection as ms\n",
    "import sklearn.linear_model as lm\n",
    "import sklearn.ensemble as ens"
   ]
  },
  {
   "cell_type": "markdown",
   "metadata": {},
   "source": [
    "## Collect and review data, eliminate columns which do not pertain to phone loans"
   ]
  },
  {
   "cell_type": "code",
   "execution_count": 105,
   "metadata": {
    "collapsed": false
   },
   "outputs": [],
   "source": [
    "loans = pd.read_csv('../data/loan.csv')"
   ]
  },
  {
   "cell_type": "code",
   "execution_count": 106,
   "metadata": {
    "collapsed": false
   },
   "outputs": [
    {
     "data": {
      "text/plain": [
       "\"'inq_fi','total_cu_tl','inq_last_12m'\""
      ]
     },
     "execution_count": 106,
     "metadata": {},
     "output_type": "execute_result"
    }
   ],
   "source": [
    ",'collections_12_mths_ex_med','mths_since_last_major_derog','policy_code','annual_inc_joint'\n",
    ",'dti_joint','verification_status_joint','acc_now_delinq','tot_coll_amt','tot_cur_bal'\n",
    ",'open_acc_6m','open_il_6m','open_il_12m','open_il_24m','mths_since_rcnt_il','total_bal_il'\n",
    ",'il_util','open_rv_12m','open_rv_24m','max_bal_bc','all_util','total_rev_hi_lim'\n",
    ",'inq_fi','total_cu_tl','inq_last_12m'"
   ]
  },
  {
   "cell_type": "code",
   "execution_count": 107,
   "metadata": {
    "collapsed": true
   },
   "outputs": [],
   "source": [
    "dropcols = ['id', 'member_id', 'funded_amnt_inv', 'grade', 'sub_grade', 'verification_status',\n",
    "           'url', 'desc', 'title' , 'addr_state', 'dti', 'earliest_cr_line', 'inq_last_6mths',\n",
    "            'mths_since_last_delinq', 'mths_since_last_record', 'open_acc', 'pub_rec', 'revol_bal'\n",
    "           'revol_bal', 'revol_util', 'total_acc', 'total_pymnt', 'total_pymnt_inv', 'total_pymnt',\n",
    "           'total_pymnt_inv','total_rec_prncp', 'total_rec_int','total_rec_late_fee', 'recoveries',\n",
    "            'collection_recovery_fee','last_pymnt_d','last_pymnt_amnt','next_pymnt_d',\n",
    "            'last_credit_pull_d','collections_12_mths_ex_med','mths_since_last_major_derog','policy_code','annual_inc_joint'\n",
    "            ,'dti_joint','verification_status_joint','acc_now_delinq','tot_coll_amt','tot_cur_bal'\n",
    "            ,'open_acc_6m','open_il_6m','open_il_12m','open_il_24m','mths_since_rcnt_il','total_bal_il'\n",
    "            ,'il_util','open_rv_12m','open_rv_24m','max_bal_bc','all_util','total_rev_hi_lim'\n",
    "            ,'inq_fi','total_cu_tl','inq_last_12m'\n",
    "                   ]\n",
    "dropcols = set(dropcols)\n",
    "keep_cols = []\n",
    "for col in loans.columns:\n",
    "    if col not in dropcols:\n",
    "        keep_cols.append(col)"
   ]
  },
  {
   "cell_type": "code",
   "execution_count": 114,
   "metadata": {
    "collapsed": false
   },
   "outputs": [
    {
     "name": "stderr",
     "output_type": "stream",
     "text": [
      "/Users/travis/anaconda2/lib/python2.7/site-packages/ipykernel/__main__.py:9: SettingWithCopyWarning: \n",
      "A value is trying to be set on a copy of a slice from a DataFrame\n",
      "\n",
      "See the caveats in the documentation: http://pandas.pydata.org/pandas-docs/stable/indexing.html#indexing-view-versus-copy\n"
     ]
    }
   ],
   "source": [
    "y_cols = ['delinq_2yrs']\n",
    "# 'delinq_2yrs' The number of 30+ days past-due incidences of delinquency in the borrower's credit file for the past 2 years\n",
    "\n",
    "purpose_keeprows = ['small_business', 'credit_card', 'other']\n",
    "\n",
    "\n",
    "loans_ = loans[keep_cols]\n",
    "loans_clean = loans_[loans_['purpose'] == 'credit_card']\n",
    "loans_clean.dropna(inplace=True)\n",
    "loans_y = loans_clean.pop('delinq_2yrs')\n",
    "\n",
    "## remove the word months from term\n",
    "## change 'issue_d' to day of week or month to see if it helps"
   ]
  },
  {
   "cell_type": "code",
   "execution_count": 115,
   "metadata": {
    "collapsed": false
   },
   "outputs": [],
   "source": [
    "loans_y_bin = loans_y.apply(lambda x: 1 if x > 1 else 0)"
   ]
  },
  {
   "cell_type": "markdown",
   "metadata": {},
   "source": [
    "## Clean data which remains make sure it's numeric, and add dummy variables where needed"
   ]
  },
  {
   "cell_type": "code",
   "execution_count": 116,
   "metadata": {
    "collapsed": true
   },
   "outputs": [],
   "source": [
    "# atonum = {l:n for n, l in enumerate('abcdefghijklmnopqrstuv'.upper())}"
   ]
  },
  {
   "cell_type": "code",
   "execution_count": 117,
   "metadata": {
    "collapsed": false
   },
   "outputs": [
    {
     "name": "stdout",
     "output_type": "stream",
     "text": [
      "<class 'pandas.core.frame.DataFrame'>\n",
      "Int64Index: 193647 entries, 13 to 887378\n",
      "Data columns (total 19 columns):\n",
      "loan_amnt              193647 non-null float64\n",
      "funded_amnt            193647 non-null float64\n",
      "term                   193647 non-null object\n",
      "int_rate               193647 non-null float64\n",
      "installment            193647 non-null float64\n",
      "emp_title              193647 non-null object\n",
      "emp_length             193647 non-null object\n",
      "home_ownership         193647 non-null object\n",
      "annual_inc             193647 non-null float64\n",
      "issue_d                193647 non-null object\n",
      "loan_status            193647 non-null object\n",
      "pymnt_plan             193647 non-null object\n",
      "purpose                193647 non-null object\n",
      "zip_code               193647 non-null object\n",
      "revol_bal              193647 non-null float64\n",
      "initial_list_status    193647 non-null object\n",
      "out_prncp              193647 non-null float64\n",
      "out_prncp_inv          193647 non-null float64\n",
      "application_type       193647 non-null object\n",
      "dtypes: float64(8), object(11)\n",
      "memory usage: 29.5+ MB\n"
     ]
    }
   ],
   "source": [
    "loans_clean.info()"
   ]
  },
  {
   "cell_type": "code",
   "execution_count": 118,
   "metadata": {
    "collapsed": false
   },
   "outputs": [
    {
     "name": "stdout",
     "output_type": "stream",
     "text": [
      "<class 'pandas.core.frame.DataFrame'>\n",
      "Int64Index: 193647 entries, 13 to 887378\n",
      "Data columns (total 18 columns):\n",
      "loan_amnt              193647 non-null float64\n",
      "funded_amnt            193647 non-null float64\n",
      "term                   193647 non-null object\n",
      "int_rate               193647 non-null float64\n",
      "installment            193647 non-null float64\n",
      "emp_title              193647 non-null object\n",
      "emp_length             193647 non-null object\n",
      "home_ownership         193647 non-null object\n",
      "annual_inc             193647 non-null float64\n",
      "loan_status            193647 non-null object\n",
      "pymnt_plan             193647 non-null object\n",
      "purpose                193647 non-null object\n",
      "zip_code               193647 non-null object\n",
      "revol_bal              193647 non-null float64\n",
      "initial_list_status    193647 non-null object\n",
      "out_prncp              193647 non-null float64\n",
      "out_prncp_inv          193647 non-null float64\n",
      "application_type       193647 non-null object\n",
      "dtypes: float64(8), object(10)\n",
      "memory usage: 28.1+ MB\n"
     ]
    }
   ],
   "source": [
    "loans_clean_.info()"
   ]
  },
  {
   "cell_type": "code",
   "execution_count": 176,
   "metadata": {
    "collapsed": false
   },
   "outputs": [],
   "source": [
    "loans_clean_ = loans_clean.copy()\n",
    "loans_clean_['issue_d'] = loans_clean['issue_d'].apply(pd.Timestamp)\n",
    "loans_clean_['year'] = loans_clean_['issue_d'].apply(lambda x: x.year)\n",
    "loans_clean_['zip_code'] = loans_clean_['zip_code'].astype('category')\n",
    "loans_clean_.drop(['application_type', 'purpose', \n",
    "                   'pymnt_plan', 'issue_d', 'loan_status'], axis=1, inplace=True)"
   ]
  },
  {
   "cell_type": "code",
   "execution_count": 177,
   "metadata": {
    "collapsed": true
   },
   "outputs": [],
   "source": [
    "rows_need_dummies = ['emp_title', 'initial_list_status', \n",
    "                     'home_ownership', 'emp_length', 'term', 'zip_code']"
   ]
  },
  {
   "cell_type": "code",
   "execution_count": 178,
   "metadata": {
    "collapsed": true
   },
   "outputs": [],
   "source": [
    "def make_dummy(df, cols):\n",
    "    df_ = df.copy()\n",
    "    for col in cols:\n",
    "        for value in df[col].value_counts().nlargest(50).index:\n",
    "            df_['{}_{}'.format(col, value)] = df[col] == value\n",
    "        df_.drop(col, axis=1, inplace=True)\n",
    "    return df_"
   ]
  },
  {
   "cell_type": "code",
   "execution_count": 179,
   "metadata": {
    "collapsed": false
   },
   "outputs": [],
   "source": [
    "loans_model = make_dummy(loans_clean_, rows_need_dummies)"
   ]
  },
  {
   "cell_type": "markdown",
   "metadata": {},
   "source": [
    "## Train logistic regression Classifier"
   ]
  },
  {
   "cell_type": "code",
   "execution_count": 180,
   "metadata": {
    "collapsed": false
   },
   "outputs": [],
   "source": [
    "Xtr, Xte, ytr, yte = ms.train_test_split(loans_model, loans_y_bin, test_size= .15)"
   ]
  },
  {
   "cell_type": "code",
   "execution_count": 181,
   "metadata": {
    "collapsed": true
   },
   "outputs": [],
   "source": [
    "model = lm.LogisticRegression(max_iter=400,  C=.75, n_jobs=-1)"
   ]
  },
  {
   "cell_type": "code",
   "execution_count": 182,
   "metadata": {
    "collapsed": false
   },
   "outputs": [
    {
     "data": {
      "text/plain": [
       "LogisticRegression(C=0.75, class_weight=None, dual=False, fit_intercept=True,\n",
       "          intercept_scaling=1, max_iter=400, multi_class='ovr', n_jobs=-1,\n",
       "          penalty='l2', random_state=None, solver='liblinear', tol=0.0001,\n",
       "          verbose=0, warm_start=False)"
      ]
     },
     "execution_count": 182,
     "metadata": {},
     "output_type": "execute_result"
    }
   ],
   "source": [
    "model.fit(Xtr, ytr)"
   ]
  },
  {
   "cell_type": "code",
   "execution_count": 201,
   "metadata": {
    "collapsed": true
   },
   "outputs": [],
   "source": [
    "probs = model.predict_proba(Xte)\n",
    "probs = probs[:,1]"
   ]
  },
  {
   "cell_type": "code",
   "execution_count": 279,
   "metadata": {
    "collapsed": false
   },
   "outputs": [],
   "source": [
    "def generate_roc_curve(probs, yte, n_iter= 200):\n",
    "    '''\n",
    "    '''\n",
    "    thres_list = np.linspace(0,1,n_iter)\n",
    "    thres_list = np.(thres_list)\n",
    "    rocs = []\n",
    "    test = yte.reshape(-1,1)\n",
    "    proba = probs.reshape(-1,1)\n",
    "    pframe = pd.DataFrame(np.append(proba, test, axis=1), columns= ['predict', 'label'])\n",
    "    c_true = pframe[pframe['label'] == 1]\n",
    "    c_false = pframe[pframe['label'] != 1]\n",
    "    for thres in thres_list:\n",
    "        tpr = float((c_true['predict'] > thres).sum()) / c_true.shape[0]\n",
    "        fpr = float((c_false['predict'] > thres).sum()) / c_false.shape[0]\n",
    "        rocs.append({'tpr' : tpr, 'fpr': fpr})\n",
    "    return rocs"
   ]
  },
  {
   "cell_type": "code",
   "execution_count": 290,
   "metadata": {
    "collapsed": false
   },
   "outputs": [],
   "source": [
    "rocs = generate_roc_curve(probs, yte, n_iter=500)"
   ]
  },
  {
   "cell_type": "code",
   "execution_count": 292,
   "metadata": {
    "collapsed": true
   },
   "outputs": [],
   "source": [
    "colors = itertools.cycle(['green', 'red', 'cyan', 'orange', 'violet',\n",
    "                          'yellow', 'blue', 'pink'])"
   ]
  },
  {
   "cell_type": "code",
   "execution_count": 293,
   "metadata": {
    "collapsed": false
   },
   "outputs": [
    {
     "name": "stdout",
     "output_type": "stream",
     "text": [
      "500\n"
     ]
    },
    {
     "data": {
      "text/plain": [
       "(0, 1)"
      ]
     },
     "execution_count": 293,
     "metadata": {},
     "output_type": "execute_result"
    },
    {
     "data": {
      "image/png": "[encoded data removed]",
      "text/plain": [
       "<matplotlib.figure.Figure at 0x138bc6390>"
      ]
     },
     "metadata": {},
     "output_type": "display_data"
    }
   ],
   "source": [
    "fig, ax = plt.subplots(1, 1, figsize=(13, 13))\n",
    "fpr = []\n",
    "tpr = []\n",
    "for row in rocs:\n",
    "    fpr.append(row['fpr'])\n",
    "    tpr.append(row['tpr'])\n",
    "print len(fpr)\n",
    "ax.scatter(fpr, tpr, color=colors.next())\n",
    "ax.plot(np.linspace(0,1,10), np.linspace(0,1,10))\n",
    "ax.set_xlim(0,1)\n",
    "ax.set_ylim(0,1)"
   ]
  },
  {
   "cell_type": "code",
   "execution_count": null,
   "metadata": {
    "collapsed": true
   },
   "outputs": [],
   "source": []
  }
 ],
 "metadata": {
  "anaconda-cloud": {},
  "kernelspec": {
   "display_name": "Python [conda root]",
   "language": "python",
   "name": "conda-root-py"
  },
  "language_info": {
   "codemirror_mode": {
    "name": "ipython",
    "version": 2
   },
   "file_extension": ".py",
   "mimetype": "text/x-python",
   "name": "python",
   "nbconvert_exporter": "python",
   "pygments_lexer": "ipython2",
   "version": "2.7.12"
  }
 },
 "nbformat": 4,
 "nbformat_minor": 1
}
